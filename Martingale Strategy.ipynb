{
 "cells": [
  {
   "cell_type": "markdown",
   "metadata": {},
   "source": [
    "The Martingale betting strategy is one where the gambler doubles their bet after each loss in order to cancel out previous losses and be left with a profit equal to the original stake. Proof:\n",
    "\n",
    "a = original bet  \n",
    "(2^0)a + (2^1)a + (2^2)a + (2^3)a + ... + (2^(n-1))a = (2^n)a - (2^0)a  \n",
    "(2^0)a + (2^0)a + (2^1)a + (2^2)a + (2^3)a + ... + (2^(n-1))a = (2^n)a  \n",
    "LHS = (2^1)a + (2^1)a + (2^2)a + ... + (2^(n-1))a  \n",
    "...  \n",
    " = (2^(n-2))a + (2^(n-2))a + (2^(n-1))a  \n",
    " = (2^(n-1))a + (2^(n-1))a = RHS\n"
   ]
  },
  {
   "cell_type": "markdown",
   "metadata": {},
   "source": [
    "In reality, this strategy is very risky as the gambler could go bust before winning, resulting in a huge loss that offsets all previous profits. In this notebook, I will run a series of experiments to analyse the risk/benefit of this strategy as applied to the casino game roulette."
   ]
  },
  {
   "cell_type": "markdown",
   "metadata": {},
   "source": [
    "In the below code, we will assume that if the gambler reaches a point where their remaining cash is less than the amount required to keep the strategy running (ie, twice the previous bet), they will go \"all out\" and bet their last remaining cash."
   ]
  },
  {
   "cell_type": "code",
   "execution_count": 2,
   "metadata": {},
   "outputs": [],
   "source": [
    "import numpy as np\n",
    "import sys\n",
    "\n",
    "PROB_OF_WIN = 18/37 #(18R, 18B, 1x0)\n",
    "\n",
    "def spin():\n",
    "    return np.random.rand() < PROB_OF_WIN #returns 1 or 0\n",
    "\n",
    "def play(min_bet, max_cash, rounds, display_results=True): #rounds=0 to keep going until bust\n",
    "    \n",
    "    if max_cash < min_bet:\n",
    "        sys.exit(\"Available cash insufficient to start the game\")\n",
    "        \n",
    "    total_bets = []\n",
    "    remaining_cash = max_cash\n",
    "    game_over = False\n",
    "    rspin = 0 #initialise\n",
    "    \n",
    "    if rounds != 0:\n",
    "    \n",
    "        while game_over == False:\n",
    "            for i in range(rounds):\n",
    "                bets = []\n",
    "                stop_signal = False\n",
    "                while stop_signal == False:\n",
    "                    if len(bets) == 0:\n",
    "                        bet = min_bet\n",
    "                    else:\n",
    "                        bet = min(bets[-1]*2, remaining_cash)\n",
    "                    \n",
    "                    rspin = spin()\n",
    "                    \n",
    "                    if rspin == 0:\n",
    "                        bets.append(bet)\n",
    "                        remaining_cash -= bet\n",
    "                        \n",
    "                        if remaining_cash == 0:\n",
    "                            total_bets.append(np.sum(bets))\n",
    "                            if display_results == True:\n",
    "                                print(f\"You went bust after {i+1} rounds\")\n",
    "                            game_over = True\n",
    "                            stop_signal = True\n",
    "                            break\n",
    "\n",
    "                    if rspin == 1:\n",
    "                        bets.append(bet)\n",
    "                        total_bets.append(np.sum(bets))\n",
    "                        remaining_cash += bet\n",
    "                        stop_signal = True\n",
    "                        if i == rounds-1:\n",
    "                            game_over = True\n",
    "                            \n",
    "                if game_over == True:\n",
    "                    break\n",
    "        \n",
    "        profits = remaining_cash - max_cash\n",
    "        if display_results == True:\n",
    "            if profits < 0:\n",
    "                print(f\"started with {max_cash} and ended up with {remaining_cash} leaving a loss of {profits}\")\n",
    "            else:\n",
    "                print(f\"started with {max_cash} and ended up with {remaining_cash} leaving a profit of {profits}\")\n",
    "            print(\"highest total bet:\", np.max(total_bets))\n",
    "        return profits\n",
    "\n",
    "    \n",
    "    \n",
    "    #when rounds set to 0, keep going until bust\n",
    "    else:\n",
    "        rounds = 0\n",
    "        while game_over == False:\n",
    "            rounds += 1\n",
    "            bets = []\n",
    "            stop_signal = False\n",
    "\n",
    "            while stop_signal == False:\n",
    "                if len(bets) == 0:\n",
    "                    bet = min_bet\n",
    "                else:\n",
    "                    bet = min(bets[-1]*2, remaining_cash)\n",
    "\n",
    "                rspin = spin()\n",
    "\n",
    "                if rspin == 0:\n",
    "                    bets.append(bet)\n",
    "                    remaining_cash -= bet\n",
    "\n",
    "                    if remaining_cash == 0:\n",
    "                        total_bets.append(np.sum(bets))\n",
    "                        if display_results == True:\n",
    "                            print(f\"You went bust after {rounds} rounds\")\n",
    "                        game_over = True\n",
    "                        stop_signal = True\n",
    "                        break\n",
    "\n",
    "                if rspin == 1:\n",
    "                    bets.append(bet)\n",
    "                    total_bets.append(np.sum(bets))\n",
    "                    remaining_cash += bet\n",
    "                    stop_signal = True\n",
    "\n",
    "            if game_over == True:\n",
    "                break\n",
    "        if display_results == True:\n",
    "            print(\"highest total bet:\", np.max(total_bets))\n",
    "        return rounds"
   ]
  },
  {
   "cell_type": "markdown",
   "metadata": {},
   "source": [
    "Below see 3 runs of min_bet = 5, max_cash = 100, rounds = 10"
   ]
  },
  {
   "cell_type": "code",
   "execution_count": 3,
   "metadata": {},
   "outputs": [
    {
     "name": "stdout",
     "output_type": "stream",
     "text": [
      "run: 1\n",
      "You went bust after 4 rounds\n",
      "started with 100 and ended up with 0 leaving a loss of -100\n",
      "highest total bet: 115\n",
      "\n",
      "run: 2\n",
      "You went bust after 6 rounds\n",
      "started with 100 and ended up with 0 leaving a loss of -100\n",
      "highest total bet: 125\n",
      "\n",
      "run: 3\n",
      "started with 100 and ended up with 150 leaving a profit of 50\n",
      "highest total bet: 15\n",
      "\n"
     ]
    }
   ],
   "source": [
    "for a in range(3):\n",
    "    print(f\"run: {a+1}\")\n",
    "    play(min_bet = 5, max_cash = 100, rounds = 10)\n",
    "    print(\"\")"
   ]
  },
  {
   "cell_type": "markdown",
   "metadata": {},
   "source": [
    "Now that you can see how it works in both cases where we win and go bust, let's run an experiment to find out how profitable this strategy is in the long run. The function returns the total profit (or loss) as an integer that we can use, as demonstrated below:"
   ]
  },
  {
   "cell_type": "code",
   "execution_count": 4,
   "metadata": {
    "scrolled": true
   },
   "outputs": [
    {
     "name": "stdout",
     "output_type": "stream",
     "text": [
      "started with 100 and ended up with 35 leaving a loss of -65\n",
      "highest total bet: 110\n"
     ]
    },
    {
     "data": {
      "text/plain": [
       "-65"
      ]
     },
     "execution_count": 4,
     "metadata": {},
     "output_type": "execute_result"
    }
   ],
   "source": [
    "experiment = play(min_bet = 5, max_cash = 100, rounds = 10)\n",
    "experiment"
   ]
  },
  {
   "cell_type": "markdown",
   "metadata": {},
   "source": [
    "Let's define an experiment that can average results to give us a reliable average for a chosen scenario."
   ]
  },
  {
   "cell_type": "code",
   "execution_count": 5,
   "metadata": {},
   "outputs": [],
   "source": [
    "def experiment(n, max_cash, rounds, display = True):\n",
    "    TPL = []\n",
    "    for i in range(n):\n",
    "\n",
    "        PL = []\n",
    "        for j in range(1000):\n",
    "            PL.append(play(5, max_cash, rounds, display_results = False))\n",
    "        TPL.append(sum(PL))\n",
    "        \n",
    "    if display == True:\n",
    "        if sum(TPL) < 0:\n",
    "           print(f\"Average losses = {round(sum(TPL)/len(TPL),2)}\")\n",
    "        else:\n",
    "           print(f\"Average profits = {round(sum(TPL)/len(TPL),2)}\")\n",
    "    return round(sum(TPL)/len(TPL),2)"
   ]
  },
  {
   "cell_type": "markdown",
   "metadata": {},
   "source": [
    "Let's average 100 scenarios of playing with max 500 for 5 rounds, 1000 times:"
   ]
  },
  {
   "cell_type": "code",
   "execution_count": 6,
   "metadata": {},
   "outputs": [
    {
     "name": "stdout",
     "output_type": "stream",
     "text": [
      "Average losses = -4903.6\n"
     ]
    },
    {
     "data": {
      "text/plain": [
       "-4903.6"
      ]
     },
     "execution_count": 6,
     "metadata": {},
     "output_type": "execute_result"
    }
   ],
   "source": [
    "experiment(100,500,5)"
   ]
  },
  {
   "cell_type": "markdown",
   "metadata": {},
   "source": [
    "Let's try again, setting the rounds to 1 (least risk of going bust)"
   ]
  },
  {
   "cell_type": "code",
   "execution_count": 7,
   "metadata": {},
   "outputs": [
    {
     "name": "stdout",
     "output_type": "stream",
     "text": [
      "Average losses = -830.4\n"
     ]
    },
    {
     "data": {
      "text/plain": [
       "-830.4"
      ]
     },
     "execution_count": 7,
     "metadata": {},
     "output_type": "execute_result"
    }
   ],
   "source": [
    "experiment(100,500,1)"
   ]
  },
  {
   "cell_type": "markdown",
   "metadata": {},
   "source": [
    "Below I tried repeating the experiment increasing the max cash by a factor of 10 until reaching 1,000,000 and averaged 100 times for each one. Intuitively, it would seem that the more cash you start with, the less chance of going bust (with a million you'd have to lose at least 20 spins in a row). But it seems from the results that this is disproportionally outweighed by the increase in potential loss. \n",
    "\n",
    "The profits after each round if you do not go bust, do not exceed the minimum bet, thus after 100 rounds the most you can make is 500 (with a 5 minimum), yet the amount you can lose is equal to the full amount of cash you have. Thus, even if the strategy makes you win money with far greater frequency than you lose it, it only takes going bust once to completely wipe out all your wins. The strategy seems to work if you look at probabilities only, without considering expected value."
   ]
  },
  {
   "cell_type": "code",
   "execution_count": 8,
   "metadata": {},
   "outputs": [
    {
     "name": "stdout",
     "output_type": "stream",
     "text": [
      "-1146.66\n",
      "-1764.49\n",
      "-2328.12\n",
      "-3415.75\n"
     ]
    }
   ],
   "source": [
    "max_cash = [1000,10000,100000,1000000]\n",
    "for cash in max_cash:\n",
    "    a = []\n",
    "    for i in range(100):\n",
    "        a.append(experiment(100,cash,1,False))\n",
    "    print(round(sum(a)/len(a),2))"
   ]
  },
  {
   "cell_type": "markdown",
   "metadata": {},
   "source": [
    "Finally, let's see how many rounds it does take to go bust if we start with 1 million, by setting rounds to 0 and averaging over 100 results."
   ]
  },
  {
   "cell_type": "code",
   "execution_count": 15,
   "metadata": {},
   "outputs": [
    {
     "name": "stdout",
     "output_type": "stream",
     "text": [
      "On average it takes 228072.0 rounds to go bust\n"
     ]
    }
   ],
   "source": [
    "b = []\n",
    "for i in range(100):\n",
    "    b.append(play(min_bet = 5, max_cash = 1000000, rounds = 0, display_results=False))\n",
    "print(f\"On average it takes {round(sum(b)/len(b),0)} rounds to go bust\")"
   ]
  },
  {
   "cell_type": "markdown",
   "metadata": {},
   "source": [
    "Now let's take a more realistic example. Let's see what happens if a gambler enters the casino with $10,000, committing to using the strategy for an entire day. As the winning odds are just below 50/50, on average it should take just over 2 spins per round. \n",
    "\n",
    "Proof:  \n",
    "\n",
    "E(rounds) = 1 x (18/37) + 2 x (18/37) x (19/37) + 3 x (18/37) x (19/37)^2 + ...  \n",
    "= (18/37)*(37/19) [(19/37) + 2(19/37)^2 + 3(19/37)^3 + ....]  \n",
    "The term in brackets can be expressed as an infinite sum of na^n where a is (19/37) which probably has a mathematical solution but for my purposes I'll just compute it for 1 million terms (see cell below).  \n",
    "= ~(18/37)*(37/19)*2.169753 = 2.0555..\n",
    "\n",
    "Googling tells me casinos average 45 spins/hour, so assuming the gambler is playing 12 hours straight, that's 540 spins in total, 270 rounds."
   ]
  },
  {
   "cell_type": "code",
   "execution_count": 61,
   "metadata": {},
   "outputs": [
    {
     "name": "stdout",
     "output_type": "stream",
     "text": [
      "2.1697530864197527\n",
      "2.0555555555555554\n"
     ]
    }
   ],
   "source": [
    "b = 0\n",
    "a = 19/37\n",
    "for i in range(1000000):\n",
    "    b += i*a**i\n",
    "print(b)\n",
    "c = b*(18/37)*(37/19)\n",
    "print(c)"
   ]
  },
  {
   "cell_type": "code",
   "execution_count": 85,
   "metadata": {},
   "outputs": [
    {
     "name": "stdout",
     "output_type": "stream",
     "text": [
      "average profit/loss: -414.145\n"
     ]
    }
   ],
   "source": [
    "a = 0\n",
    "for i in range(10000):\n",
    "    a += play(5, 10000, 270, 0) \n",
    "print(f\"average profit/loss: {a/10000}\")"
   ]
  },
  {
   "cell_type": "markdown",
   "metadata": {},
   "source": [
    "Now let's find out the average number of rounds it takes to go bust and use this to devise a strategy that might actually work."
   ]
  },
  {
   "cell_type": "code",
   "execution_count": 89,
   "metadata": {},
   "outputs": [
    {
     "name": "stdout",
     "output_type": "stream",
     "text": [
      "average number of rounds before going bust: 5132.594\n"
     ]
    }
   ],
   "source": [
    "b = 0\n",
    "for i in range(1000):\n",
    "    b += play(5, 10000, 0, 0) \n",
    "print(f\"average number of rounds before going bust: {b/1000}\")"
   ]
  },
  {
   "cell_type": "markdown",
   "metadata": {},
   "source": [
    "Ok, so let's test the scenario of going into the casino with 10,000 but only doing 100 rounds."
   ]
  },
  {
   "cell_type": "code",
   "execution_count": 93,
   "metadata": {},
   "outputs": [
    {
     "name": "stdout",
     "output_type": "stream",
     "text": [
      "average profit/loss: -185.862\n"
     ]
    }
   ],
   "source": [
    "a = 0\n",
    "for i in range(10000):\n",
    "    a += play(5, 10000, 100, 0) \n",
    "print(f\"average profit/loss: {a/10000}\")"
   ]
  },
  {
   "cell_type": "markdown",
   "metadata": {},
   "source": [
    "Better than with 270 rounds but still a loss. What if the gambler committed to just 10 rounds. This time surely the chance of getting 14 losing spins in a row is pretty low (2^14 > 10k => bust), so we should see better results?!"
   ]
  },
  {
   "cell_type": "code",
   "execution_count": 96,
   "metadata": {},
   "outputs": [
    {
     "name": "stdout",
     "output_type": "stream",
     "text": [
      "average profit/loss: -12.2775\n"
     ]
    }
   ],
   "source": [
    "a = 0\n",
    "for i in range(10000):\n",
    "    a += play(5, 10000, 10, 0) \n",
    "print(f\"average profit/loss: {a/10000}\")"
   ]
  },
  {
   "cell_type": "markdown",
   "metadata": {},
   "source": [
    "Ok, ok, ok. Last try. What if we went in with 100,000."
   ]
  },
  {
   "cell_type": "code",
   "execution_count": 97,
   "metadata": {},
   "outputs": [
    {
     "name": "stdout",
     "output_type": "stream",
     "text": [
      "average profit/loss: -34.6885\n"
     ]
    }
   ],
   "source": [
    "a = 0\n",
    "for i in range(10000):\n",
    "    a += play(5, 100000, 10, 0) \n",
    "print(f\"average profit/loss: {a/10000}\")"
   ]
  },
  {
   "cell_type": "markdown",
   "metadata": {},
   "source": [
    "All right I give up. If we don't average it over 10k runs we do actually appear to see a profit though. If you run the below cell a few times you see the max profits respectively: 500, 50, 50 pop up very often. But occasionally you see -10k / -100k. And that's what tips the average into the negative. So, even if you only play this strategy once with enough cash, you're essentially taking on a very small risk of losing all your cash in one go, in exchange for a high chance of making a very small profit."
   ]
  },
  {
   "cell_type": "code",
   "execution_count": 106,
   "metadata": {},
   "outputs": [
    {
     "name": "stdout",
     "output_type": "stream",
     "text": [
      "500\n",
      "50\n",
      "50\n"
     ]
    }
   ],
   "source": [
    "print(play(5, 10000, 100, 0))\n",
    "print(play(5, 10000, 10, 0))\n",
    "print(play(5, 100000, 10, 0))"
   ]
  },
  {
   "cell_type": "markdown",
   "metadata": {},
   "source": [
    "Conclusion:  \n",
    "**The martingale strategy is only viable with an infinite amount of money.**",
   ]
  }
 ],
 "metadata": {
  "kernelspec": {
   "display_name": "Python 3",
   "language": "python",
   "name": "python3"
  },
  "language_info": {
   "codemirror_mode": {
    "name": "ipython",
    "version": 3
   },
   "file_extension": ".py",
   "mimetype": "text/x-python",
   "name": "python",
   "nbconvert_exporter": "python",
   "pygments_lexer": "ipython3",
   "version": "3.8.5"
  }
 },
 "nbformat": 4,
 "nbformat_minor": 4
}
